{
 "cells": [
  {
   "cell_type": "code",
   "execution_count": 1,
   "metadata": {},
   "outputs": [],
   "source": [
    "%load_ext autoreload\n",
    "%autoreload 2\n",
    "import os\n",
    "from pororo import Pororo\n",
    "from utils import *\n",
    "\n",
    "ocr = Pororo(task=\"ocr\", lang=\"ko\")"
   ]
  },
  {
   "cell_type": "code",
   "execution_count": 4,
   "metadata": {},
   "outputs": [
    {
     "name": "stdout",
     "output_type": "stream",
     "text": [
      "processing: ./dataset/menu_1.json started...\n",
      "processing: ./dataset/menu_2.json started...\n",
      "processing: ./dataset/menu_3.json started...\n",
      "processing: ./dataset/menu_4.json started...\n",
      "processing: ./dataset/menu_5.json started...\n",
      "processing: ./dataset/menu_6.json started...\n",
      "processing: ./dataset/menu_7.json started...\n"
     ]
    }
   ],
   "source": [
    "path_DIR = './dataset'\n",
    "file_list = os.listdir(path_DIR)\n",
    "file_list.sort()\n",
    "supported_suffix = ('.png', '.jpg')\n",
    "\n",
    "for idx, filename in enumerate(file_list):\n",
    "  # 현재는 PNG, JPG 파일만 인식\n",
    "  if not filename.endswith(supported_suffix): continue\n",
    "\n",
    "  path_FILE = f'{path_DIR}/{filename}'\n",
    "  path_JSON = f'{path_DIR}/{os.path.splitext(filename)[0]}.json'\n",
    "  print(f'processing: {path_JSON} started...')\n",
    "  ocr_data = ocr(path_FILE, detail=True)\n",
    "  filewrite_JSON(path_JSON ,pororo_to_json(ocr_data))"
   ]
  },
  {
   "cell_type": "code",
   "execution_count": null,
   "metadata": {},
   "outputs": [],
   "source": [
    "os.getcwd()"
   ]
  },
  {
   "cell_type": "code",
   "execution_count": 6,
   "metadata": {},
   "outputs": [
    {
     "name": "stdout",
     "output_type": "stream",
     "text": [
      "[8, 0]\n",
      "[58, 0]\n",
      "[58, 28]\n",
      "[8, 28]\n"
     ]
    }
   ],
   "source": [
    "pos_list = [{'x': 8, 'y': 0}, {'x': 58, 'y': 0}, {'x': 58, 'y': 28}, {'x': 8, 'y': 28}]\n",
    "for pos in pos_list:\n",
    "  print(list(pos.values()))"
   ]
  }
 ],
 "metadata": {
  "interpreter": {
   "hash": "5e605eba3fedd4ec66f2bdef7cd452f946a53d4c4b4cac0b7e869092419fa2d2"
  },
  "kernelspec": {
   "display_name": "Python 3.8.0 ('oasys')",
   "language": "python",
   "name": "python3"
  },
  "language_info": {
   "codemirror_mode": {
    "name": "ipython",
    "version": 3
   },
   "file_extension": ".py",
   "mimetype": "text/x-python",
   "name": "python",
   "nbconvert_exporter": "python",
   "pygments_lexer": "ipython3",
   "version": "3.8.0"
  },
  "orig_nbformat": 4
 },
 "nbformat": 4,
 "nbformat_minor": 2
}
